{
 "cells": [
  {
   "cell_type": "markdown",
   "metadata": {
    "_uuid": "29a5efd6f30feeeafb462b8512f293b4f5be8146"
   },
   "source": [
    "**[Deep Learning Course Home Page](https://www.kaggle.com/learn/deep-learning)**\n",
    "\n",
    "---\n"
   ]
  },
  {
   "cell_type": "markdown",
   "metadata": {
    "_uuid": "e7a87860432f740faddb4339f15138a00a59c5db"
   },
   "source": [
    "# Exercise Introduction\n",
    "We will return to the automatic rotation problem you worked on in the previous exercise. But we'll add data augmentation to improve your model.\n",
    "\n",
    "The model specification and compilation steps don't change when you start using data augmentation. The code you've already worked with for specifying and compiling a model is in the cell below.  Run it so you'll be ready to work on data augmentation."
   ]
  },
  {
   "cell_type": "code",
   "execution_count": 1,
   "metadata": {
    "_kg_hide-output": true,
    "_uuid": "a1c88f35ec2c2a3defea93c465869271f9cce076"
   },
   "outputs": [
    {
     "name": "stdout",
     "output_type": "stream",
     "text": [
      "Setup Complete\n"
     ]
    }
   ],
   "source": [
    "from tensorflow.keras.applications import ResNet50\n",
    "from tensorflow.keras.models import Sequential\n",
    "from tensorflow.keras.layers import Dense, Flatten, GlobalAveragePooling2D\n",
    "\n",
    "num_classes = 2\n",
    "resnet_weights_path = '../input/resnet50/resnet50_weights_tf_dim_ordering_tf_kernels_notop.h5'\n",
    "\n",
    "my_new_model = Sequential()\n",
    "my_new_model.add(ResNet50(include_top=False, pooling='avg', weights=resnet_weights_path))\n",
    "my_new_model.add(Dense(num_classes, activation='softmax'))\n",
    "\n",
    "my_new_model.layers[0].trainable = False\n",
    "\n",
    "my_new_model.compile(optimizer='sgd', loss='categorical_crossentropy', metrics=['accuracy'])\n",
    "\n",
    "# Set up code checking\n",
    "from learntools.core import binder\n",
    "binder.bind(globals())\n",
    "from learntools.deep_learning.exercise_5 import *\n",
    "print(\"Setup Complete\")"
   ]
  },
  {
   "cell_type": "markdown",
   "metadata": {
    "_uuid": "c964f15977c0028e51eda44061cca75bcfb613b9"
   },
   "source": [
    "# 1) Fit the Model Using Data Augmentation\n",
    "\n",
    "Here is some code to set up some ImageDataGenerators. Run it, and then answer the questions below about it."
   ]
  },
  {
   "cell_type": "code",
   "execution_count": 2,
   "metadata": {
    "_uuid": "9e2e180770aa6d0945dc66ce294948327f5ec0b0"
   },
   "outputs": [],
   "source": [
    "from tensorflow.keras.applications.resnet50 import preprocess_input\n",
    "from tensorflow.keras.preprocessing.image import ImageDataGenerator\n",
    "\n",
    "image_size = 224\n",
    "\n",
    "# Specify the values for all arguments to data_generator_with_aug.\n",
    "data_generator_with_aug = ImageDataGenerator(preprocessing_function=preprocess_input,\n",
    "                                              horizontal_flip = True,\n",
    "                                              width_shift_range = 0.1,\n",
    "                                              height_shift_range = 0.1)\n",
    "            \n",
    "data_generator_no_aug = ImageDataGenerator(preprocessing_function=preprocess_input)\n"
   ]
  },
  {
   "cell_type": "markdown",
   "metadata": {
    "_uuid": "bb4b99c6ff9776db256f7a021fdf716f1d177622"
   },
   "source": [
    "Why do we need both a generator with augmentation and a generator without augmentation? After thinking about it, check out the solution below."
   ]
  },
  {
   "cell_type": "code",
   "execution_count": 3,
   "metadata": {
    "_uuid": "c85be3b2d8ddf209b8bb23190ff17ede83443f5f"
   },
   "outputs": [
    {
     "data": {
      "application/javascript": [
       "parent.postMessage({\"jupyterEvent\": \"custom.exercise_interaction\", \"data\": {\"interactionType\": 3, \"learnTutorialId\": 77, \"questionId\": \"1_WhyTwoGenerators\", \"learnToolsVersion\": \"0.2.12\", \"valueTowardsCompletion\": 0.0, \"failureMessage\": \"\", \"exceptionClass\": \"\", \"trace\": \"\", \"outcomeType\": 4}}, \"*\")"
      ],
      "text/plain": [
       "<IPython.core.display.Javascript object>"
      ]
     },
     "metadata": {},
     "output_type": "display_data"
    },
    {
     "data": {
      "text/markdown": [
       "<span style=\"color:#33cc99\">Solution:</span> \n",
       "We want to do data augmentation when fitting the model for the reasons mentioned\n",
       "in the video (including a reduction in overfitting, by giving us more data to work with).\n",
       "\n",
       "But we don't want to change how we test the model. So the validation generator\n",
       "will use an ImageDataGenerator without augmentation. That allows a straightforward\n",
       "comparison between different training procedures (e.g. training with augmentation\n",
       "and without it).\n",
       "\n",
       "If the augmentation made it harder to predict the label associated with an image\n",
       "(e.g. because of how the image was cropped in augmentation) that would make it misleading\n",
       "to compare scores to another procedure where the validation data was only original images.\n"
      ],
      "text/plain": [
       "Solution: \n",
       "We want to do data augmentation when fitting the model for the reasons mentioned\n",
       "in the video (including a reduction in overfitting, by giving us more data to work with).\n",
       "\n",
       "But we don't want to change how we test the model. So the validation generator\n",
       "will use an ImageDataGenerator without augmentation. That allows a straightforward\n",
       "comparison between different training procedures (e.g. training with augmentation\n",
       "and without it).\n",
       "\n",
       "If the augmentation made it harder to predict the label associated with an image\n",
       "(e.g. because of how the image was cropped in augmentation) that would make it misleading\n",
       "to compare scores to another procedure where the validation data was only original images."
      ]
     },
     "metadata": {},
     "output_type": "display_data"
    }
   ],
   "source": [
    "q_1.solution()"
   ]
  },
  {
   "cell_type": "markdown",
   "metadata": {
    "_uuid": "aa284df2bffdb3cfa200bbec3e6f1eeb6429ec35"
   },
   "source": [
    "# 2) Choosing Augmentation Types\n",
    "ImageDataGenerator offers many types of data augmentation. For example, one argument is `rotation_range`. This rotates each image by a random amount that can be up to whatever value you specify.\n",
    "\n",
    "Would it be sensible to use automatic rotation for this problem?  Why or why not?"
   ]
  },
  {
   "cell_type": "code",
   "execution_count": 4,
   "metadata": {
    "_uuid": "e905c7049f4995ee288730b1720b84012bd77bd0"
   },
   "outputs": [
    {
     "data": {
      "application/javascript": [
       "parent.postMessage({\"jupyterEvent\": \"custom.exercise_interaction\", \"data\": {\"interactionType\": 3, \"learnTutorialId\": 77, \"questionId\": \"2_RotationCriticism\", \"learnToolsVersion\": \"0.2.12\", \"valueTowardsCompletion\": 0.0, \"failureMessage\": \"\", \"exceptionClass\": \"\", \"trace\": \"\", \"outcomeType\": 4}}, \"*\")"
      ],
      "text/plain": [
       "<IPython.core.display.Javascript object>"
      ]
     },
     "metadata": {},
     "output_type": "display_data"
    },
    {
     "data": {
      "text/markdown": [
       "<span style=\"color:#33cc99\">Solution:</span> \n",
       "The goal in this problem is to tell if an image is upright or sideways.  Rotating images\n",
       "moderately might cause images that don't feel cleanly in either category.\n",
       "\n",
       "Since data augmentation affects images without touching the labels, a dramatic rotation\n",
       "would mean some images are used for training with the wrong label (e.g. an image would be rotated\n",
       "sideways by the generator, and still have a label of being upright)\n"
      ],
      "text/plain": [
       "Solution: \n",
       "The goal in this problem is to tell if an image is upright or sideways.  Rotating images\n",
       "moderately might cause images that don't feel cleanly in either category.\n",
       "\n",
       "Since data augmentation affects images without touching the labels, a dramatic rotation\n",
       "would mean some images are used for training with the wrong label (e.g. an image would be rotated\n",
       "sideways by the generator, and still have a label of being upright)"
      ]
     },
     "metadata": {},
     "output_type": "display_data"
    }
   ],
   "source": [
    "q_2.solution()"
   ]
  },
  {
   "cell_type": "markdown",
   "metadata": {
    "_uuid": "6308102340b22a331fd9dd41721f5c733948be0a"
   },
   "source": [
    "# 3) Code\n",
    "Fill in the missing pieces in the following code. We've supplied some boilerplate. You need to think about what ImageDataGenerator is used for each data source."
   ]
  },
  {
   "cell_type": "code",
   "execution_count": 5,
   "metadata": {
    "_uuid": "72883d03f8ea9e1f66d5b61883d88f86f77ade5c",
    "tags": [
     "raises-exception"
    ]
   },
   "outputs": [
    {
     "name": "stdout",
     "output_type": "stream",
     "text": [
      "Found 220 images belonging to 2 classes.\n",
      "Found 217 images belonging to 2 classes.\n",
      "Epoch 1/3\n",
      "19/19 [==============================] - 9s 463ms/step - loss: 0.4952 - acc: 0.7373 - val_loss: 0.2029 - val_acc: 0.9447\n",
      "Epoch 2/3\n",
      "19/19 [==============================] - 3s 161ms/step - loss: 0.2131 - acc: 0.9218 - val_loss: 0.2095 - val_acc: 0.8986\n",
      "Epoch 3/3\n",
      "19/19 [==============================] - 3s 182ms/step - loss: 0.1593 - acc: 0.9561 - val_loss: 0.1453 - val_acc: 0.9493\n"
     ]
    },
    {
     "data": {
      "application/javascript": [
       "parent.postMessage({\"jupyterEvent\": \"custom.exercise_interaction\", \"data\": {\"outcomeType\": 1, \"valueTowardsCompletion\": 1.0, \"interactionType\": 1, \"learnTutorialId\": 77, \"questionId\": \"3_CodeWithAugmentation\", \"learnToolsVersion\": \"0.2.12\", \"failureMessage\": \"\", \"exceptionClass\": \"\", \"trace\": \"\"}}, \"*\")"
      ],
      "text/plain": [
       "<IPython.core.display.Javascript object>"
      ]
     },
     "metadata": {},
     "output_type": "display_data"
    },
    {
     "data": {
      "text/markdown": [
       "<span style=\"color:#33cc33\">Correct</span>"
      ],
      "text/plain": [
       "Correct"
      ]
     },
     "metadata": {},
     "output_type": "display_data"
    }
   ],
   "source": [
    "# Specify which type of ImageDataGenerator above is to load in training data\n",
    "train_generator = data_generator_with_aug.flow_from_directory(\n",
    "        directory = '../input/dogs-gone-sideways/images/train',\n",
    "        target_size=(image_size, image_size),\n",
    "        batch_size=12,\n",
    "        class_mode='categorical')\n",
    "\n",
    "# Specify which type of ImageDataGenerator above is to load in validation data\n",
    "validation_generator = data_generator_no_aug.flow_from_directory(\n",
    "        directory = '../input/dogs-gone-sideways/images/val',\n",
    "        target_size=(image_size, image_size),\n",
    "        class_mode='categorical')\n",
    "\n",
    "my_new_model.fit_generator(\n",
    "        train_generator, # if you don't know what argument goes first, try the hint\n",
    "        epochs = 3,\n",
    "        steps_per_epoch=19,\n",
    "        validation_data=validation_generator)\n",
    "\n",
    "q_3.check()"
   ]
  },
  {
   "cell_type": "code",
   "execution_count": 6,
   "metadata": {
    "_uuid": "094ebd02acde723411a5c7db358bf35a790a4724"
   },
   "outputs": [
    {
     "name": "stdout",
     "output_type": "stream",
     "text": [
      "Found 220 images belonging to 2 classes.\n",
      "Found 217 images belonging to 2 classes.\n",
      "Epoch 1/3\n",
      "19/19 [==============================] - 2s 118ms/step - loss: 0.1013 - acc: 0.9780 - val_loss: 0.1109 - val_acc: 0.9677\n",
      "Epoch 2/3\n",
      "19/19 [==============================] - 2s 99ms/step - loss: 0.1036 - acc: 0.9741 - val_loss: 0.1154 - val_acc: 0.9631\n",
      "Epoch 3/3\n",
      "19/19 [==============================] - 2s 99ms/step - loss: 0.1090 - acc: 0.9785 - val_loss: 0.0950 - val_acc: 0.9677\n"
     ]
    },
    {
     "data": {
      "text/plain": [
       "<tensorflow.python.keras.callbacks.History at 0x7f39105386d8>"
      ]
     },
     "execution_count": 6,
     "metadata": {},
     "output_type": "execute_result"
    }
   ],
   "source": [
    "train_generator = data_generator_no_aug.flow_from_directory(\n",
    "        directory = '../input/dogs-gone-sideways/images/train',\n",
    "        target_size=(image_size, image_size),\n",
    "        batch_size=12,\n",
    "        class_mode='categorical')\n",
    "\n",
    "# Specify which type of ImageDataGenerator above is to load in validation data\n",
    "validation_generator = data_generator_no_aug.flow_from_directory(\n",
    "        directory = '../input/dogs-gone-sideways/images/val',\n",
    "        target_size=(image_size, image_size),\n",
    "        class_mode='categorical')\n",
    "\n",
    "my_new_model.fit_generator(\n",
    "        train_generator, # if you don't know what argument goes first, try the hint\n",
    "        epochs = 3,\n",
    "        steps_per_epoch=19,\n",
    "        validation_data=validation_generator)\n",
    "\n",
    "#q_3.check()"
   ]
  },
  {
   "cell_type": "code",
   "execution_count": 7,
   "metadata": {
    "_uuid": "3f499334a331551f40d9697ff62b9aff81950d5e"
   },
   "outputs": [],
   "source": [
    "# q_3.hint()\n",
    "# q_3.solution()"
   ]
  },
  {
   "cell_type": "markdown",
   "metadata": {
    "_uuid": "e13a9efcbdf8d04efcfad3cf874db9c47ff0646a"
   },
   "source": [
    "# 4) Did Data Augmentation Help?\n",
    "How could you test whether data augmentation improved your model accuracy?"
   ]
  },
  {
   "cell_type": "code",
   "execution_count": 8,
   "metadata": {
    "_uuid": "b96ff0dbcde5377210e128e30704e4525de87b3e"
   },
   "outputs": [
    {
     "data": {
      "application/javascript": [
       "parent.postMessage({\"jupyterEvent\": \"custom.exercise_interaction\", \"data\": {\"interactionType\": 3, \"learnTutorialId\": 77, \"questionId\": \"4_DidAugmentationHelp\", \"learnToolsVersion\": \"0.2.12\", \"valueTowardsCompletion\": 0.0, \"failureMessage\": \"\", \"exceptionClass\": \"\", \"trace\": \"\", \"outcomeType\": 4}}, \"*\")"
      ],
      "text/plain": [
       "<IPython.core.display.Javascript object>"
      ]
     },
     "metadata": {},
     "output_type": "display_data"
    },
    {
     "data": {
      "text/markdown": [
       "<span style=\"color:#33cc99\">Solution:</span> \n",
       "Create `train_generator` usng `data_generator_no_aug` but don't\n",
       "change other arguments to `train_generator`.\n",
       "\n",
       "Run the model and see the resuling accuracy. Compare this to\n",
       "the accuracy you got when `train_generator` used augmentation.\n",
       "\n",
       "Our validation dataset is very small, so there's a little bit\n",
       "of luck or randomness in the exact score from any\n",
       "model run. Validation scores will be more reliable as you\n",
       "start using larger datasets.\n"
      ],
      "text/plain": [
       "Solution: \n",
       "Create `train_generator` usng `data_generator_no_aug` but don't\n",
       "change other arguments to `train_generator`.\n",
       "\n",
       "Run the model and see the resuling accuracy. Compare this to\n",
       "the accuracy you got when `train_generator` used augmentation.\n",
       "\n",
       "Our validation dataset is very small, so there's a little bit\n",
       "of luck or randomness in the exact score from any\n",
       "model run. Validation scores will be more reliable as you\n",
       "start using larger datasets."
      ]
     },
     "metadata": {},
     "output_type": "display_data"
    }
   ],
   "source": [
    "q_4.solution()"
   ]
  },
  {
   "cell_type": "markdown",
   "metadata": {
    "_uuid": "1bc475112645d148eef4773928da008f367051b7"
   },
   "source": [
    "# Keep Going\n",
    "You are ready for **[a deeper understanding of deep learning](https://www.kaggle.com/dansbecker/a-deeper-understanding-of-deep-learning/)**.\n"
   ]
  },
  {
   "cell_type": "markdown",
   "metadata": {
    "_uuid": "4866f7e8d1e6c802bfca758e6a850f68f51c5781"
   },
   "source": [
    "---\n",
    "**[Deep Learning Course Home Page](https://www.kaggle.com/learn/deep-learning)**\n",
    "\n"
   ]
  }
 ],
 "metadata": {
  "kernelspec": {
   "display_name": "Python 3",
   "language": "python",
   "name": "python3"
  },
  "language_info": {
   "codemirror_mode": {
    "name": "ipython",
    "version": 3
   },
   "file_extension": ".py",
   "mimetype": "text/x-python",
   "name": "python",
   "nbconvert_exporter": "python",
   "pygments_lexer": "ipython3",
   "version": "3.6.6"
  }
 },
 "nbformat": 4,
 "nbformat_minor": 1
}
